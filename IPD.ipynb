{
 "cells": [
  {
   "cell_type": "markdown",
   "metadata": {
    "colab_type": "text",
    "collapsed": true,
    "id": "yRbUtz__A1a_"
   },
   "source": [
    "# The Iterated Prisoner's Dilemma\n",
    "\n",
    "Author : Shayan Firouzian H.\n",
    "\n",
    "## Introduction\n",
    "\n",
    "The Prisoner's Dilemma (PD) is a **simultaneous**, **two-player**, **non-zero-sum** game, highlighted by Merill Flood & Melvin Dreschler in 1950 to show that Nash's balance is not always ideal. The iterated version of the game (IPD) allows you to express strategies that are based on the game history, and therefore learn from the past. In 1980 Robert Axelrod organized a competition for the iterated version of the game in which one of the participants, Anatol Rappoport, highlighted the famous TFT strategy. This iterated version and TFT strategy were popularized in 1984 in Robert Axelrod's book \"The Evolution of Cooperation\"."
   ]
  },
  {
   "cell_type": "code",
   "execution_count": null,
   "metadata": {
    "colab": {},
    "colab_type": "code",
    "id": "m3GwEBZoA1bB"
   },
   "outputs": [],
   "source": [
    "%run ../src/game.py\n",
    "\n",
    "dip =[(3,3),(0,5),(5,0),(1,1)]   # Prisoner's dilemma\n",
    "g = Game(dip,['C','D'])\n",
    "g.getNash()\n"
   ]
  },
  {
   "cell_type": "markdown",
   "metadata": {
    "colab_type": "text",
    "id": "UUUxBWJNA1bI"
   },
   "source": [
    "# Strategy\n",
    "\n",
    "#### Create a class of strategies"
   ]
  },
  {
   "cell_type": "code",
   "execution_count": null,
   "metadata": {
    "colab": {},
    "colab_type": "code",
    "id": "OMrjZ1ciA1bK"
   },
   "outputs": [],
   "source": [
    "from abc import abstractmethod\n",
    "\n",
    "\n",
    "class Strategy:\n",
    "    def setMemory(self, mem):\n",
    "        pass\n",
    "\n",
    "    def getAction(self, tick):\n",
    "        pass\n",
    "\n",
    "    def __copy__(self):\n",
    "        pass\n",
    "\n",
    "    def update(self, x, y):\n",
    "        pass\n",
    "\n",
    "\n",
    "class Periodic(Strategy):\n",
    "    def __init__(self, sequence, name=None):\n",
    "        super().__init__()\n",
    "        self.sequence = sequence.upper()\n",
    "        self.step = 0\n",
    "        self.name = \"per_\" + sequence if (name == None) else name\n",
    "\n",
    "    def getAction(self, tick):\n",
    "        return self.sequence[tick % len(self.sequence)]\n",
    "\n",
    "    def clone(self):\n",
    "        object = Periodic(self.sequence, self.name)\n",
    "        return object\n",
    "\n",
    "    def update(self, x, y):\n",
    "        pass\n",
    "\n",
    "\n",
    "print(\"All is ok\")"
   ]
  },
  {
   "cell_type": "markdown",
   "metadata": {
    "colab_type": "text",
    "id": "_C-a0YOMA1bS"
   },
   "source": [
    "# One meeting"
   ]
  },
  {
   "cell_type": "code",
   "execution_count": null,
   "metadata": {
    "colab": {},
    "colab_type": "code",
    "id": "TKAUYaK8A1bU"
   },
   "outputs": [],
   "source": [
    "class Meeting:\n",
    "    def __init__(self, game, s1, s2, length=1000):\n",
    "        self.game = game\n",
    "        self.s1 = s1.clone()\n",
    "        self.s2 = s2.clone()\n",
    "        self.length = length\n",
    "        self.nb_cooperation_s1 = 0\n",
    "        self.nb_cooperation_s2 = 0\n",
    "\n",
    "    def reinit(self):\n",
    "        self.s1_score = 0\n",
    "        self.s2_score = 0\n",
    "        self.s1_rounds = []\n",
    "        self.s2_rounds = []\n",
    "\n",
    "    def run(self):\n",
    "        self.reinit()\n",
    "        for tick in range(0, self.length):\n",
    "            c1 = self.s1.getAction(tick).upper()\n",
    "            c2 = self.s2.getAction(tick).upper()\n",
    "            if c1 == \"C\":\n",
    "                self.nb_cooperation_s1 += 1\n",
    "            if c2 == \"C\":\n",
    "                self.nb_cooperation_s2 += 1\n",
    "            self.s1_rounds.append(c1)\n",
    "            self.s2_rounds.append(c2)\n",
    "            self.s1.update(c1, c2)\n",
    "            self.s2.update(c2, c1)\n",
    "            act = self.game.actions\n",
    "            self.s1_score += self.game.scores[\"x\"][act.index(c1), act.index(c2)]\n",
    "            self.s2_score += self.game.scores[\"y\"][act.index(c1), act.index(c2)]\n",
    "\n",
    "    def prettyPrint(self,max=20) :\n",
    "        print(\"{:8}\\t{} = {}\".format(self.s1.name, ' '.join(map(str, self.s1_rounds)) , self.s1_score))\n",
    "        print(\"{:8}\\t{} = {}\".format(self.s2.name, ' '.join(map(str, self.s2_rounds)) , self.s2_score))\n",
    "\n",
    "print(\"All is ok\")"
   ]
  },
  {
   "cell_type": "code",
   "execution_count": null,
   "metadata": {
    "colab": {},
    "colab_type": "code",
    "id": "0864WspmA1ba",
    "outputId": "64c3249c-3ee6-49d3-a2e3-815687254e17"
   },
   "outputs": [],
   "source": [
    "dip =[(3,3),(0,5),(5,0),(1,1)]   # Prisoner's dilemma\n",
    "g = Game(dip,['C','D'])\n",
    "s1=Periodic(\"CCD\")\n",
    "s2=Periodic(\"DDC\")\n",
    "m = Meeting(g,s1,s2,10)\n",
    "m.run()\n",
    "m.prettyPrint()\n",
    "# We must get 15,35\n",
    "print()\n",
    "print(\"Number of cooperations : \" )\n",
    "print (m.s1.name+\"\\t\" + str(m.nb_cooperation_s1))\n",
    "print (m.s2.name+\"\\t\" + str(m.nb_cooperation_s2))"
   ]
  },
  {
   "cell_type": "markdown",
   "metadata": {
    "colab_type": "text",
    "id": "FDFZwmWaA1be"
   },
   "source": [
    "# Run a tournament"
   ]
  },
  {
   "cell_type": "code",
   "execution_count": null,
   "metadata": {
    "colab": {},
    "colab_type": "code",
    "id": "NvsSXzRpA1bf"
   },
   "outputs": [],
   "source": [
    "import pandas as pd\n",
    "import numpy as np\n",
    "\n",
    "\n",
    "class Tournament:\n",
    "    def __init__(self, game, strategies, length=1000, repeat=1):\n",
    "        self.strategies = strategies\n",
    "        self.game = game\n",
    "        self.length = length\n",
    "        self.repeat = repeat\n",
    "        size = len(strategies)\n",
    "        df = pd.DataFrame(np.zeros((size, size + 1), dtype=np.int32))\n",
    "        df.columns, df.index = (\n",
    "            [s.name for s in self.strategies] + [\"Total\"],\n",
    "            [s.name for s in self.strategies],\n",
    "        )\n",
    "        self.matrix = df\n",
    "        df2 = pd.DataFrame(np.zeros((size, size + 1), dtype=np.int32))\n",
    "        df2.columns, df2.index = (\n",
    "            [s.name for s in self.strategies] + [\"Total\"],\n",
    "            [s.name for s in self.strategies],\n",
    "        )\n",
    "        self.cooperations = df2\n",
    "\n",
    "    def run(self):\n",
    "        for k in range(self.repeat):\n",
    "            for i in range(0, len(self.strategies)):\n",
    "                for j in range(i, len(self.strategies)):\n",
    "                    meet = Meeting(\n",
    "                        self.game, self.strategies[i], self.strategies[j], self.length\n",
    "                    )\n",
    "                    meet.run()\n",
    "                    self.matrix.at[\n",
    "                        self.strategies[i].name, self.strategies[j].name\n",
    "                    ] += meet.s1_score\n",
    "                    if (i != j):\n",
    "                        self.matrix.at[\n",
    "                            self.strategies[j].name, self.strategies[i].name\n",
    "                        ] += meet.s2_score\n",
    "                    self.cooperations.at[\n",
    "                        self.strategies[i].name, self.strategies[j].name\n",
    "                    ] += meet.nb_cooperation_s1\n",
    "                    if (i != j):\n",
    "                        self.cooperations.at[\n",
    "                            self.strategies[j].name, self.strategies[i].name\n",
    "                        ] += meet.nb_cooperation_s2\n",
    "        self.matrix[\"Total\"] = self.matrix.sum(axis=1)\n",
    "        self.matrix.sort_values(by=\"Total\", ascending=False, inplace=True)\n",
    "        rows = list(self.matrix.index) + [\"Total\"]\n",
    "        self.matrix = self.matrix.reindex(columns=rows)\n",
    "        self.cooperations[\"Total\"] = self.cooperations.sum(axis=1)\n",
    "        self.cooperations.sort_values(by=\"Total\", ascending=False, inplace=True)\n",
    "        rows = list(self.cooperations.index) + [\"Total\"]\n",
    "        self.cooperations = self.cooperations.reindex(columns=rows)\n",
    "\n",
    "\n",
    "print(\"All is ok\")"
   ]
  },
  {
   "cell_type": "code",
   "execution_count": null,
   "metadata": {
    "colab": {},
    "colab_type": "code",
    "id": "oXMo5n8BA1bi"
   },
   "outputs": [],
   "source": [
    "bag = []\n",
    "bag.append(Periodic('C'))\n",
    "bag.append(Periodic('D'))\n",
    "bag.append(Periodic('DDC'))\n",
    "bag.append(Periodic('CCD'))\n",
    "t=Tournament(g,bag,10)\n",
    "t.run()\n",
    "print(\"The score matrix: \")\n",
    "print(t.matrix)\n",
    "print()\n",
    "# SUR 10 COUPS : [('per_D', 120), ('per_DDC', 102), ('per_CCD', 78), ('per_C', 60)]\n",
    "print(\"The cooperation matrix: \")\n",
    "print(t.cooperations)"
   ]
  },
  {
   "cell_type": "markdown",
   "metadata": {
    "colab_type": "text",
    "id": "Jnn5vuBuA1bm"
   },
   "source": [
    "## Generate sets of strategies"
   ]
  },
  {
   "cell_type": "code",
   "execution_count": null,
   "metadata": {
    "colab": {},
    "colab_type": "code",
    "id": "32Oxpz09A1bo",
    "outputId": "d3fe95b4-06a7-49f1-a7ab-68ce3aa43024"
   },
   "outputs": [],
   "source": [
    "import itertools\n",
    "cards = ['C','D']\n",
    "periodics = [p for p in itertools.product(cards, repeat=1)]+[p for p in itertools.product(cards, repeat=2)] + [p for p in itertools.product(cards, repeat=3)]\n",
    "strats = [Periodic(''.join(p)) for p in periodics] # join to transform in strings\n",
    "print(str(len(strats))+\" stratégies générées\")\n",
    "# 14 are generated: 2 with period lengh of 1, 4 with period lengh of 2, 8 with period lengh of 3"
   ]
  },
  {
   "cell_type": "markdown",
   "metadata": {
    "colab_type": "text",
    "id": "kb4I4kJYA1br"
   },
   "source": [
    "# Ecological competitions"
   ]
  },
  {
   "cell_type": "code",
   "execution_count": null,
   "metadata": {
    "colab": {},
    "colab_type": "code",
    "id": "o-i2hEqGA1bs"
   },
   "outputs": [],
   "source": [
    "import pandas\n",
    "import copy\n",
    "import math\n",
    "import matplotlib.pyplot as plt\n",
    "\n",
    "%matplotlib inline\n",
    "\n",
    "\n",
    "class Ecological:\n",
    "    def __init__(self, game, strategies, length=1000, repeat=1, pop=100):\n",
    "        self.strategies = strategies\n",
    "        self.pop = pop\n",
    "        self.game = game\n",
    "        self.length = length\n",
    "        self.generation = 0  # Number of the current generation\n",
    "        self.base = pop * len(strategies)\n",
    "        self.historic = pandas.DataFrame(columns=[strat.name for strat in strategies])\n",
    "        self.historic.loc[0] = [pop for x in range(len(strategies))]\n",
    "        self.extinctions = dict((s.name, math.inf) for s in strategies)\n",
    "        self.cooperations = dict((s.name, 0) for s in strategies)\n",
    "        self.listeCooperations = list()\n",
    "        self.scores = dict((s.name, 0) for s in strategies)\n",
    "        self.tournament = Tournament(self.game, self.strategies, length, repeat)\n",
    "        self.tournament.run()\n",
    "\n",
    "    def run(self):\n",
    "        dead = 0\n",
    "        stab = False\n",
    "        while (self.generation < 1000) and (stab == False):\n",
    "            parents = list(copy.copy(self.historic.loc[self.generation]))\n",
    "            for i in range(len(self.strategies)):\n",
    "                strat = self.strategies[i].name\n",
    "                if self.historic.at[self.generation, strat] != 0:\n",
    "                    score = 0\n",
    "                    cooperations = 0\n",
    "                    for j in range(len(self.strategies)):\n",
    "                        strat2 = self.strategies[j].name\n",
    "                        if self.historic.at[self.generation, strat2] != 0:\n",
    "                            if i == j:\n",
    "                                score += (\n",
    "                                    self.historic.at[self.generation, strat] - 1\n",
    "                                ) * self.tournament.matrix.at[strat, strat2]\n",
    "                                cooperations += (\n",
    "                                    self.historic.at[self.generation, strat] - 1\n",
    "                                ) * self.tournament.cooperations.at[strat, strat2]\n",
    "                            else:\n",
    "                                score += (\n",
    "                                    self.historic.at[self.generation, strat2]\n",
    "                                    * self.tournament.matrix.at[strat, strat2]\n",
    "                                )\n",
    "                                cooperations += (\n",
    "                                    self.historic.at[self.generation, strat2]\n",
    "                                    * self.tournament.cooperations.at[strat, strat2]\n",
    "                                )\n",
    "                        self.scores[strat] = score\n",
    "                        self.cooperations[strat] = cooperations\n",
    "\n",
    "            total = 0\n",
    "            totalCooperations = 0\n",
    "            for strat in self.strategies:\n",
    "                total += (\n",
    "                    self.scores[strat.name]\n",
    "                    * self.historic.at[self.generation, strat.name]\n",
    "                )\n",
    "                totalCooperations += (\n",
    "                    self.cooperations[strat.name]\n",
    "                    * self.historic.at[self.generation, strat.name]\n",
    "                )\n",
    "            for strat in self.strategies:\n",
    "                parent = self.historic.at[self.generation, strat.name]\n",
    "                if self.scores[strat.name] != 0:\n",
    "                    self.historic.at[self.generation + 1, strat.name] = math.floor(\n",
    "                        self.base * parent * self.scores[strat.name] / total\n",
    "                    )\n",
    "                elif self.scores[strat.name] == 0:\n",
    "                    self.historic.at[self.generation + 1, strat.name] = 0\n",
    "                    dead += 1\n",
    "                if (parent != 0) and (\n",
    "                    self.historic.at[self.generation + 1, strat.name] == 0\n",
    "                ):\n",
    "                    self.extinctions[strat.name] = self.generation + 1\n",
    "                elif self.historic.at[self.generation + 1, strat.name] != 0:\n",
    "                    self.extinctions[strat.name] = (\n",
    "                        self.historic.at[self.generation + 1, strat.name] * 1000\n",
    "                    )\n",
    "                if dead == len(self.strategies) - 1:\n",
    "                    stab = True\n",
    "            self.listeCooperations.append(\n",
    "                totalCooperations / (self.base * self.length * len(self.strategies))\n",
    "            )\n",
    "            self.generation += 1\n",
    "            if parents == list(self.historic.loc[self.generation]):\n",
    "                stab = True\n",
    "        trie = sorted(self.extinctions.items(), key=lambda t: t[1], reverse=True)\n",
    "        df_trie = pandas.DataFrame()\n",
    "        for t in trie:\n",
    "            df_trie[t[0]] = self.historic[t[0]]\n",
    "        self.historic = df_trie\n",
    "        return self.historic\n",
    "\n",
    "    def saveData(self):\n",
    "        date = datetime.datetime.now()\n",
    "        self.historic.to_csv(str(date) + \".csv\", sep=\";\", encoding=\"utf-8\")\n",
    "\n",
    "    def drawPlot(self, nbCourbes=None, nbLegends=None):\n",
    "        nbCourbes = len(self.strategies) if (nbCourbes == None) else nbCourbes\n",
    "        nbLegends = len(self.strategies) if (nbLegends == None) else nbLegends\n",
    "        strat = self.historic.columns.tolist()\n",
    "        for i in range(nbCourbes):\n",
    "            plt.plot(\n",
    "                self.historic[strat[i]],\n",
    "                label=strat[i] if (i < nbLegends) else \"_nolegend_\",\n",
    "            )\n",
    "        plt.legend(bbox_to_anchor=(0, 1), loc=2, borderaxespad=0.0)\n",
    "        plt.ylabel(\"Population\")\n",
    "        plt.xlabel(\"Generation\")\n",
    "        plt.show()\n",
    "        # date = datetime.datetime.now()\n",
    "        # plt.savefig(str(date)+'.png', dpi=1000)\n",
    "\n",
    "    def drawCooperation(self):\n",
    "        plt.plot(self.listeCooperations)\n",
    "        plt.ylabel(\"Percentage of cooperations\")\n",
    "        plt.xlabel(\"Generation\")\n",
    "        plt.ylim(0, 101)\n",
    "        plt.show()\n",
    "\n",
    "\n",
    "print(\"All is ok\")"
   ]
  },
  {
   "cell_type": "markdown",
   "metadata": {},
   "source": [
    "#### Organize an ecological competition with All_C (which always cooperates) and All_D (which always betrays)\n",
    "Once the competition is completed, it is possible to display the population evolution curve of each strategy as well as the evolution curve of the cooperations played in each generation."
   ]
  },
  {
   "cell_type": "code",
   "execution_count": null,
   "metadata": {
    "scrolled": true
   },
   "outputs": [],
   "source": [
    "All_C = Periodic(\"C\",\"All_C\")\n",
    "All_D = Periodic(\"D\",\"All_D\")\n",
    "eco = Ecological(g, [All_C, All_D])\n",
    "eco.run()\n",
    "print(\"Evolution de la population\")\n",
    "eco.drawPlot()\n",
    "print(\"Historique de la population\")\n",
    "print(eco.historic)\n",
    "print(\"Evolution des cooperations\")\n",
    "eco.drawCooperation()\n",
    "print(eco.scores)"
   ]
  },
  {
   "cell_type": "markdown",
   "metadata": {
    "colab_type": "text",
    "id": "tDULeYlnA1b0"
   },
   "source": [
    "# Reactive strategies\n",
    "Strategies are called \"reactive\" if their actions depend on the opponent's past actions. Some of them are very simple to understand. Among the most famous are\n",
    "- `Tft` (abbreviation of \"tit for tat\" or \"donnant-donnant\" as we would say in French) which starts by cooperating and then plays the same thing as the opponent on the previous round\n",
    "- `Spiteful` who cooperates as long as the opponent has cooperated, but who never forgives him if he has betrayed once "
   ]
  },
  {
   "cell_type": "code",
   "execution_count": null,
   "metadata": {
    "colab": {},
    "colab_type": "code",
    "id": "gr7FFb_0A1b1",
    "outputId": "41a4f22d-c414-483d-ec1c-c431153e6127"
   },
   "outputs": [],
   "source": [
    "class Tft(Strategy):\n",
    "    def __init__(self):\n",
    "        super().__init__()\n",
    "        self.name = \"tft\"\n",
    "        self.hisPast = \"\"\n",
    "\n",
    "    def getAction(self, tick):\n",
    "        return \"C\" if (tick == 0) else self.hisPast[-1]\n",
    "\n",
    "    def clone(self):\n",
    "        return Tft()\n",
    "\n",
    "    def update(self, my, his):\n",
    "        self.hisPast += his\n",
    "\n",
    "\n",
    "class Spiteful(Strategy):\n",
    "    def __init__(self):\n",
    "        super().__init__()\n",
    "        self.name = \"spiteful\"\n",
    "        self.hisPast = \"\"\n",
    "        self.myPast = \"\"\n",
    "\n",
    "    def getAction(self, tick):\n",
    "        if tick == 0:\n",
    "            return \"C\"\n",
    "        if self.hisPast[-1] == \"D\" or self.myPast[-1] == \"D\":\n",
    "            return \"D\"\n",
    "        else:\n",
    "            return \"C\"\n",
    "\n",
    "    def clone(self):\n",
    "        return Spiteful()\n",
    "\n",
    "    def update(self, my, his):\n",
    "        self.myPast += my\n",
    "        self.hisPast += his\n",
    "\n",
    "\n",
    "print(\"All is ok\")"
   ]
  },
  {
   "cell_type": "markdown",
   "metadata": {},
   "source": [
    "#### Behaviour of these reactive strategies\n",
    "Let's check the behavior of these two new strategies against `Periodic(\"CCD\")` in a Meeting."
   ]
  },
  {
   "cell_type": "code",
   "execution_count": null,
   "metadata": {},
   "outputs": [],
   "source": [
    "m = Meeting(g,Tft(),Periodic(\"CCD\"),10)\n",
    "m.run()\n",
    "m.prettyPrint()\n",
    "print(\"\")\n",
    "m = Meeting(g,Spiteful(),Periodic(\"CCD\"),10)\n",
    "m.run()\n",
    "m.prettyPrint()"
   ]
  },
  {
   "cell_type": "markdown",
   "metadata": {
    "colab_type": "text",
    "id": "yjoBoqSjA1cD"
   },
   "source": [
    "## Generate them all\n",
    "For a `Mem(x,y)` family, the genome is of size `max(x,y)` for the first rounds plus `2^(x+y)` for all situations `s` of the past on `x` moves of one player and `y` moves of the other. So there are `2^(max(x,y)+2^(x+y))` strategies to generate. To obtain all these elements, it is therefore sufficient to compute all the possible instanciations of C and D in the genome, which is done, once again, with a Cartesian product.\n",
    "\n",
    "\n",
    "| family  | genome length | number of strats  |\n",
    "|         :-:   |     :-:     | :-:    |\n",
    "| mem(0,1) | 1+2^1 = 3        | 2^3 = 8 |\n",
    "| mem(1,0) | 1+2^1 = 3        | 2^3 = 8 |\n",
    "| mem(1,1) | 1+2^2 = 5        | 2^5 = 32 |\n",
    "| mem(2,0) | 2+2^2 = 6        | 2^6 = 64 |\n",
    "| mem(1,2) | 2+2^3 = 10       | 2^10 = 1024 |\n",
    "| mem(2,1) | 2+2^3 = 10       | 2^10 = 1024 |\n",
    "| mem(2,2) | 2+2^4 = 18       | 2^18 = 262144 |\n"
   ]
  },
  {
   "cell_type": "code",
   "execution_count": null,
   "metadata": {
    "colab": {},
    "colab_type": "code",
    "id": "AqEYefYhA1cE",
    "outputId": "8fb51be4-2c0e-416c-e94e-ba8c6feba5c2"
   },
   "outputs": [],
   "source": [
    "def getMem(x,y):\n",
    "    if (x+y > 4):\n",
    "        return \"Pas calculable\"\n",
    "    len_genome = max(x,y)+2**(x+y)\n",
    "    permut = [p for p in itertools.product(['C','D'], repeat=len_genome)]\n",
    "    genomes = [''.join(p) for p in permut]\n",
    "    return [Mem(x,y,gen) for gen in genomes]\n",
    "\n",
    "\n",
    "print(\"In Mem(1,1) there are \"+ str(len(getMem(1,1))) + \" strategies\")"
   ]
  },
  {
   "cell_type": "markdown",
   "metadata": {
    "colab_type": "text",
    "id": "pFGz8Y23A1cJ"
   },
   "source": [
    "## The Mem(1,1) competition"
   ]
  }
 ],
 "metadata": {
  "colab": {
   "collapsed_sections": [],
   "name": "prisoners_dilemma_fr.ipynb",
   "provenance": []
  },
  "kernelspec": {
   "display_name": "Python 3 (ipykernel)",
   "language": "python",
   "name": "python3"
  },
  "language_info": {
   "codemirror_mode": {
    "name": "ipython",
    "version": 3
   },
   "file_extension": ".py",
   "mimetype": "text/x-python",
   "name": "python",
   "nbconvert_exporter": "python",
   "pygments_lexer": "ipython3",
   "version": "3.10.6"
  }
 },
 "nbformat": 4,
 "nbformat_minor": 1
}
